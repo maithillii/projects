{
  "cells": [
    {
      "cell_type": "code",
      "execution_count": 1,
      "metadata": {
        "colab": {
          "base_uri": "https://localhost:8080/"
        },
        "id": "Avoz_5lC9NKt",
        "outputId": "0e47b135-e1de-49ab-dc9b-e55e34d21118"
      },
      "outputs": [
        {
          "name": "stdout",
          "output_type": "stream",
          "text": [
            "Collecting requests\n",
            "  Downloading requests-2.32.3-py3-none-any.whl (64 kB)\n",
            "     ---------------------------------------- 64.9/64.9 kB ? eta 0:00:00\n",
            "Collecting charset-normalizer<4,>=2\n",
            "  Downloading charset_normalizer-3.3.2-cp311-cp311-win_amd64.whl (99 kB)\n",
            "     ---------------------------------------- 99.9/99.9 kB 5.6 MB/s eta 0:00:00\n",
            "Collecting idna<4,>=2.5\n",
            "  Downloading idna-3.7-py3-none-any.whl (66 kB)\n",
            "     ---------------------------------------- 66.8/66.8 kB 3.5 MB/s eta 0:00:00\n",
            "Collecting urllib3<3,>=1.21.1\n",
            "  Downloading urllib3-2.2.1-py3-none-any.whl (121 kB)\n",
            "     -------------------------------------- 121.1/121.1 kB 7.4 MB/s eta 0:00:00\n",
            "Collecting certifi>=2017.4.17\n",
            "  Downloading certifi-2024.6.2-py3-none-any.whl (164 kB)\n",
            "     -------------------------------------- 164.4/164.4 kB 9.6 MB/s eta 0:00:00\n",
            "Installing collected packages: urllib3, idna, charset-normalizer, certifi, requests\n",
            "Successfully installed certifi-2024.6.2 charset-normalizer-3.3.2 idna-3.7 requests-2.32.3 urllib3-2.2.1\n",
            "Note: you may need to restart the kernel to use updated packages.\n"
          ]
        },
        {
          "name": "stderr",
          "output_type": "stream",
          "text": [
            "  WARNING: The script normalizer.exe is installed in 'c:\\Users\\maith\\AppData\\Local\\Programs\\Python\\Python311\\Scripts' which is not on PATH.\n",
            "  Consider adding this directory to PATH or, if you prefer to suppress this warning, use --no-warn-script-location.\n",
            "\n",
            "[notice] A new release of pip available: 22.3.1 -> 24.0\n",
            "[notice] To update, run: python.exe -m pip install --upgrade pip\n"
          ]
        }
      ],
      "source": [
        "pip install requests\n"
      ]
    },
    {
      "cell_type": "code",
      "execution_count": 2,
      "metadata": {
        "id": "upDfTltc9dU5"
      },
      "outputs": [],
      "source": [
        "import datetime as dt\n",
        "import requests"
      ]
    },
    {
      "cell_type": "code",
      "execution_count": 3,
      "metadata": {
        "id": "YPDQEwiU9nto"
      },
      "outputs": [],
      "source": [
        "BASE_URL = \"https://api.openweathermap.org/data/2.5/weather?\"\n",
        "API_KEY = \"4f619ae40168123f46707daf74934311\"\n",
        "CITY = \"Mumbai\""
      ]
    },
    {
      "cell_type": "code",
      "execution_count": 4,
      "metadata": {
        "id": "PUzSWDi3Ali5"
      },
      "outputs": [],
      "source": [
        "def kelvin_to_celsius_fahrenheit(kelvin):\n",
        "    celsius = kelvin - 273.15\n",
        "    fahrenheit = celsius * (9/5) + 32\n",
        "    return celsius, fahrenheit"
      ]
    },
    {
      "cell_type": "code",
      "execution_count": 5,
      "metadata": {
        "id": "qcAkIvpC91UI"
      },
      "outputs": [],
      "source": [
        "url = BASE_URL + \"appid=\" + API_KEY + \"&q=\" + CITY"
      ]
    },
    {
      "cell_type": "code",
      "execution_count": 6,
      "metadata": {
        "colab": {
          "base_uri": "https://localhost:8080/"
        },
        "id": "k6cBWrOI-l62",
        "outputId": "19f9e0af-3821-445e-af07-343193d92242"
      },
      "outputs": [
        {
          "name": "stdout",
          "output_type": "stream",
          "text": [
            "{'coord': {'lon': 72.8479, 'lat': 19.0144}, 'weather': [{'id': 701, 'main': 'Mist', 'description': 'mist', 'icon': '50n'}], 'base': 'stations', 'main': {'temp': 301.14, 'feels_like': 305.69, 'temp_min': 301.14, 'temp_max': 301.14, 'pressure': 1006, 'humidity': 83}, 'visibility': 3000, 'wind': {'speed': 1.54, 'deg': 180}, 'clouds': {'all': 75}, 'dt': 1718394739, 'sys': {'type': 1, 'id': 9052, 'country': 'IN', 'sunrise': 1718411468, 'sunset': 1718459233}, 'timezone': 19800, 'id': 1275339, 'name': 'Mumbai', 'cod': 200}\n"
          ]
        }
      ],
      "source": [
        "response = requests.get(url).json()\n",
        "print(response)"
      ]
    },
    {
      "cell_type": "code",
      "execution_count": 7,
      "metadata": {
        "colab": {
          "base_uri": "https://localhost:8080/"
        },
        "id": "9wdVAC-4-l3Q",
        "outputId": "27bdd00c-9aee-43b7-e9d3-26d58462f8d1"
      },
      "outputs": [
        {
          "name": "stdout",
          "output_type": "stream",
          "text": [
            "Temperature in Mumbai: 27.99°C or 82.38200000000002°F\n",
            "Temperature in Mumbai feels like 32.54°C or 90.57200000000003°F\n",
            "Humidity in Mumbai: 83\n",
            "Wind Speed in Mumbai: 1.54m/s\n",
            "General Weather in Mumbai: mist\n",
            "Sunrise in Mumbai at 2024-06-15 06:01:08 local time\n",
            "Sunset in Mumbai at 2024-06-15 19:17:13 local time\n"
          ]
        }
      ],
      "source": [
        "temp_kelvin = response['main']['temp']\n",
        "temp_celsius, temp_fahrenheit = kelvin_to_celsius_fahrenheit(temp_kelvin)\n",
        "feels_like_kelvin = response['main']['feels_like']\n",
        "feels_like_celsius, feels_like_fahrenheit = kelvin_to_celsius_fahrenheit(feels_like_kelvin)\n",
        "humidity = response['main']['humidity']\n",
        "description = response['weather'][0]['description']\n",
        "wind_speed = response['wind']['speed']\n",
        "sunrise_time = dt.datetime.utcfromtimestamp(response['sys']['sunrise'] + response['timezone'])\n",
        "sunset_time = dt.datetime.utcfromtimestamp(response['sys']['sunset'] + response['timezone'])\n",
        "\n",
        "print(f\"Temperature in {CITY}: {temp_celsius:.2f}°C or {temp_fahrenheit}°F\")\n",
        "print(f\"Temperature in {CITY} feels like {feels_like_celsius:.2f}°C or {feels_like_fahrenheit}°F\")\n",
        "print(f\"Humidity in {CITY}: {humidity}\")\n",
        "print(f\"Wind Speed in {CITY}: {wind_speed}m/s\")\n",
        "print(f\"General Weather in {CITY}: {description}\")\n",
        "print(f\"Sunrise in {CITY} at {sunrise_time} local time\")\n",
        "print(f\"Sunset in {CITY} at {sunset_time} local time\")"
      ]
    }
  ],
  "metadata": {
    "colab": {
      "provenance": []
    },
    "kernelspec": {
      "display_name": "Python 3",
      "name": "python3"
    },
    "language_info": {
      "codemirror_mode": {
        "name": "ipython",
        "version": 3
      },
      "file_extension": ".py",
      "mimetype": "text/x-python",
      "name": "python",
      "nbconvert_exporter": "python",
      "pygments_lexer": "ipython3",
      "version": "3.11.3"
    }
  },
  "nbformat": 4,
  "nbformat_minor": 0
}
